{
  "cells": [
    {
      "cell_type": "markdown",
      "metadata": {
        "id": "qXJayfHS2iT5"
      },
      "source": [
        "<a href=\"https://colab.research.google.com/github/wandb/edu/blob/main/mlops-001/lesson1/01_EDA.ipynb\" target=\"_parent\"><img src=\"https://colab.research.google.com/assets/colab-badge.svg\" alt=\"Open In Colab\"/></a>\n",
        "<!--- @wandbcode{course-lesson1} -->"
      ],
      "id": "qXJayfHS2iT5"
    },
    {
      "cell_type": "markdown",
      "metadata": {
        "id": "a212966e-8f38-4b4a-8e00-2985120439ca"
      },
      "source": [
        "# EDA \n",
        "<!--- @wandbcode{course-lesson1} -->\n",
        "\n",
        "In this notebook, we will download a sample of the [BDD100K](https://www.bdd100k.com/) semantic segmentation dataset and use W&B Artifacts and Tables to version and analyze our data. "
      ],
      "id": "a212966e-8f38-4b4a-8e00-2985120439ca"
    },
    {
      "cell_type": "code",
      "execution_count": null,
      "metadata": {
        "colab": {
          "base_uri": "https://localhost:8080/"
        },
        "id": "iRXErBwxXoeX",
        "outputId": "ceb98b53-319c-4b9c-f495-3a133acfd5c3"
      },
      "outputs": [
        {
          "name": "stdout",
          "output_type": "stream",
          "text": [
            "Mounted at /content/gdrive\n"
          ]
        }
      ],
      "source": [
        "from google.colab import drive\n",
        "drive.mount('/content/gdrive')"
      ],
      "id": "iRXErBwxXoeX"
    },
    {
      "cell_type": "code",
      "execution_count": null,
      "metadata": {
        "id": "XllooOj-Xq8R"
      },
      "outputs": [],
      "source": [
        "!mkdir -p /content/gdrive/MyDrive/modules"
      ],
      "id": "XllooOj-Xq8R"
    },
    {
      "cell_type": "code",
      "execution_count": null,
      "metadata": {
        "id": "H_01xbNhZ1YI"
      },
      "outputs": [],
      "source": [
        "import sys\n",
        "sys.path.append('/content/gdrive/MyDrive')"
      ],
      "id": "H_01xbNhZ1YI"
    },
    {
      "cell_type": "code",
      "execution_count": null,
      "metadata": {
        "colab": {
          "base_uri": "https://localhost:8080/"
        },
        "id": "0DauTz3221mC",
        "outputId": "e507f3a7-cd3f-42d2-a8c4-baf27340ba23"
      },
      "outputs": [
        {
          "name": "stdout",
          "output_type": "stream",
          "text": [
            "Looking in indexes: https://pypi.org/simple, https://us-python.pkg.dev/colab-wheels/public/simple/\n",
            "Collecting wandb\n",
            "  Downloading wandb-0.13.10-py3-none-any.whl (2.0 MB)\n",
            "\u001b[2K     \u001b[90m━━━━━━━━━━━━━━━━━━━━━━━━━━━━━━━━━━━━━━━━\u001b[0m \u001b[32m2.0/2.0 MB\u001b[0m \u001b[31m21.6 MB/s\u001b[0m eta \u001b[36m0:00:00\u001b[0m\n",
            "\u001b[?25hCollecting sentry-sdk>=1.0.0\n",
            "  Downloading sentry_sdk-1.15.0-py2.py3-none-any.whl (181 kB)\n",
            "\u001b[2K     \u001b[90m━━━━━━━━━━━━━━━━━━━━━━━━━━━━━━━━━━━━━━\u001b[0m \u001b[32m181.3/181.3 KB\u001b[0m \u001b[31m18.1 MB/s\u001b[0m eta \u001b[36m0:00:00\u001b[0m\n",
            "\u001b[?25hCollecting setproctitle\n",
            "  Downloading setproctitle-1.3.2-cp38-cp38-manylinux_2_5_x86_64.manylinux1_x86_64.manylinux_2_17_x86_64.manylinux2014_x86_64.whl (31 kB)\n",
            "Collecting docker-pycreds>=0.4.0\n",
            "  Downloading docker_pycreds-0.4.0-py2.py3-none-any.whl (9.0 kB)\n",
            "Requirement already satisfied: appdirs>=1.4.3 in /usr/local/lib/python3.8/dist-packages (from wandb) (1.4.4)\n",
            "Requirement already satisfied: typing-extensions in /usr/local/lib/python3.8/dist-packages (from wandb) (4.4.0)\n",
            "Requirement already satisfied: protobuf!=4.21.0,<5,>=3.12.0 in /usr/local/lib/python3.8/dist-packages (from wandb) (3.19.6)\n",
            "Requirement already satisfied: psutil>=5.0.0 in /usr/local/lib/python3.8/dist-packages (from wandb) (5.4.8)\n",
            "Collecting pathtools\n",
            "  Downloading pathtools-0.1.2.tar.gz (11 kB)\n",
            "  Preparing metadata (setup.py) ... \u001b[?25l\u001b[?25hdone\n",
            "Collecting GitPython>=1.0.0\n",
            "  Downloading GitPython-3.1.30-py3-none-any.whl (184 kB)\n",
            "\u001b[2K     \u001b[90m━━━━━━━━━━━━━━━━━━━━━━━━━━━━━━━━━━━━━━\u001b[0m \u001b[32m184.0/184.0 KB\u001b[0m \u001b[31m17.3 MB/s\u001b[0m eta \u001b[36m0:00:00\u001b[0m\n",
            "\u001b[?25hRequirement already satisfied: PyYAML in /usr/local/lib/python3.8/dist-packages (from wandb) (6.0)\n",
            "Requirement already satisfied: Click!=8.0.0,>=7.0 in /usr/local/lib/python3.8/dist-packages (from wandb) (7.1.2)\n",
            "Requirement already satisfied: setuptools in /usr/local/lib/python3.8/dist-packages (from wandb) (57.4.0)\n",
            "Requirement already satisfied: requests<3,>=2.0.0 in /usr/local/lib/python3.8/dist-packages (from wandb) (2.25.1)\n",
            "Requirement already satisfied: six>=1.4.0 in /usr/local/lib/python3.8/dist-packages (from docker-pycreds>=0.4.0->wandb) (1.15.0)\n",
            "Collecting gitdb<5,>=4.0.1\n",
            "  Downloading gitdb-4.0.10-py3-none-any.whl (62 kB)\n",
            "\u001b[2K     \u001b[90m━━━━━━━━━━━━━━━━━━━━━━━━━━━━━━━━━━━━━━━━\u001b[0m \u001b[32m62.7/62.7 KB\u001b[0m \u001b[31m6.7 MB/s\u001b[0m eta \u001b[36m0:00:00\u001b[0m\n",
            "\u001b[?25hRequirement already satisfied: urllib3<1.27,>=1.21.1 in /usr/local/lib/python3.8/dist-packages (from requests<3,>=2.0.0->wandb) (1.24.3)\n",
            "Requirement already satisfied: idna<3,>=2.5 in /usr/local/lib/python3.8/dist-packages (from requests<3,>=2.0.0->wandb) (2.10)\n",
            "Requirement already satisfied: chardet<5,>=3.0.2 in /usr/local/lib/python3.8/dist-packages (from requests<3,>=2.0.0->wandb) (4.0.0)\n",
            "Requirement already satisfied: certifi>=2017.4.17 in /usr/local/lib/python3.8/dist-packages (from requests<3,>=2.0.0->wandb) (2022.12.7)\n",
            "Collecting urllib3<1.27,>=1.21.1\n",
            "  Downloading urllib3-1.26.14-py2.py3-none-any.whl (140 kB)\n",
            "\u001b[2K     \u001b[90m━━━━━━━━━━━━━━━━━━━━━━━━━━━━━━━━━━━━━━\u001b[0m \u001b[32m140.6/140.6 KB\u001b[0m \u001b[31m14.7 MB/s\u001b[0m eta \u001b[36m0:00:00\u001b[0m\n",
            "\u001b[?25hCollecting smmap<6,>=3.0.1\n",
            "  Downloading smmap-5.0.0-py3-none-any.whl (24 kB)\n",
            "Building wheels for collected packages: pathtools\n",
            "  Building wheel for pathtools (setup.py) ... \u001b[?25l\u001b[?25hdone\n",
            "  Created wheel for pathtools: filename=pathtools-0.1.2-py3-none-any.whl size=8806 sha256=98bb7c0941a7e7053c93ac282d3535e1a5ea44e862ed0cadaf3eb59c701d89d5\n",
            "  Stored in directory: /root/.cache/pip/wheels/4c/8e/7e/72fbc243e1aeecae64a96875432e70d4e92f3d2d18123be004\n",
            "Successfully built pathtools\n"
          ]
        }
      ],
      "source": [
        "!pip install wandb"
      ],
      "id": "0DauTz3221mC"
    },
    {
      "cell_type": "code",
      "execution_count": null,
      "metadata": {
        "id": "17490b58-a8f2-489e-9c71-ca0e078591dc"
      },
      "outputs": [],
      "source": [
        "DEBUG = False # set this flag to True to use a small subset of data for testing"
      ],
      "id": "17490b58-a8f2-489e-9c71-ca0e078591dc"
    },
    {
      "cell_type": "code",
      "execution_count": null,
      "metadata": {
        "id": "7ee88efc-3257-4ed7-bb8c-1695f4a8c828"
      },
      "outputs": [],
      "source": [
        "from fastai.vision.all import *\n",
        "from modules import params\n",
        "import wandb"
      ],
      "id": "7ee88efc-3257-4ed7-bb8c-1695f4a8c828"
    },
    {
      "cell_type": "markdown",
      "metadata": {
        "id": "055764da-7252-4796-86af-585007dea288"
      },
      "source": [
        "We have defined some global configuration parameters in the `params.py` file. `ENTITY` should correspond to your W&B Team name if you work in a team, replace it with `None` if you work individually. \n",
        "\n",
        "In the section below, we will use `untar_data` function from `fastai` to download and unzip our datasets. "
      ],
      "id": "055764da-7252-4796-86af-585007dea288"
    },
    {
      "cell_type": "code",
      "execution_count": null,
      "metadata": {
        "id": "0bae3750-a653-4265-9c52-c1f9af9b8393"
      },
      "outputs": [],
      "source": [
        "URL = 'https://storage.googleapis.com/wandb_course/bdd_simple_1k.zip'"
      ],
      "id": "0bae3750-a653-4265-9c52-c1f9af9b8393"
    },
    {
      "cell_type": "code",
      "execution_count": null,
      "metadata": {
        "colab": {
          "base_uri": "https://localhost:8080/",
          "height": 37
        },
        "id": "0da50d19-860a-4b39-8320-a376c483da04",
        "outputId": "66ed63ad-f261-440a-b6e4-f4aa54ad9ca0"
      },
      "outputs": [
        {
          "data": {
            "text/html": [
              "\n",
              "<style>\n",
              "    /* Turns off some styling */\n",
              "    progress {\n",
              "        /* gets rid of default border in Firefox and Opera. */\n",
              "        border: none;\n",
              "        /* Needs to be in here for Safari polyfill so background images work as expected. */\n",
              "        background-size: auto;\n",
              "    }\n",
              "    progress:not([value]), progress:not([value])::-webkit-progress-bar {\n",
              "        background: repeating-linear-gradient(45deg, #7e7e7e, #7e7e7e 10px, #5c5c5c 10px, #5c5c5c 20px);\n",
              "    }\n",
              "    .progress-bar-interrupted, .progress-bar-interrupted::-webkit-progress-bar {\n",
              "        background: #F44336;\n",
              "    }\n",
              "</style>\n"
            ],
            "text/plain": [
              "<IPython.core.display.HTML object>"
            ]
          },
          "metadata": {},
          "output_type": "display_data"
        },
        {
          "data": {
            "text/html": [
              "\n",
              "    <div>\n",
              "      <progress value='122470400' class='' max='122467691' style='width:300px; height:20px; vertical-align: middle;'></progress>\n",
              "      100.00% [122470400/122467691 00:06&lt;00:00]\n",
              "    </div>\n",
              "    "
            ],
            "text/plain": [
              "<IPython.core.display.HTML object>"
            ]
          },
          "metadata": {},
          "output_type": "display_data"
        }
      ],
      "source": [
        "path = Path(untar_data(URL, force_download=True))"
      ],
      "id": "0da50d19-860a-4b39-8320-a376c483da04"
    },
    {
      "cell_type": "code",
      "execution_count": null,
      "metadata": {
        "colab": {
          "base_uri": "https://localhost:8080/"
        },
        "id": "6df5b830-e685-4a0d-81e8-6dda10697dff",
        "outputId": "83adc736-7b92-4cef-dceb-4d952564f4e6"
      },
      "outputs": [
        {
          "data": {
            "text/plain": [
              "(#3) [Path('/root/.fastai/data/bdd_simple_1k/images'),Path('/root/.fastai/data/bdd_simple_1k/LICENSE.txt'),Path('/root/.fastai/data/bdd_simple_1k/labels')]"
            ]
          },
          "execution_count": 42,
          "metadata": {},
          "output_type": "execute_result"
        }
      ],
      "source": [
        "path.ls()"
      ],
      "id": "6df5b830-e685-4a0d-81e8-6dda10697dff"
    },
    {
      "cell_type": "markdown",
      "metadata": {
        "id": "db6708ae-abaa-432f-83b0-028a99222096"
      },
      "source": [
        "Here we define several functions to help us process the data and upload it as a `Table` to W&B. "
      ],
      "id": "db6708ae-abaa-432f-83b0-028a99222096"
    },
    {
      "cell_type": "code",
      "execution_count": null,
      "metadata": {
        "id": "5779f980-4d9b-4645-9726-642a25334e10"
      },
      "outputs": [],
      "source": [
        "def label_func(fname):\n",
        "    #print(f\"fname.stem :{fname.stem}\")\n",
        "    return (fname.parent.parent/\"labels\")/f\"{fname.stem}_mask.png\"\n",
        "\n",
        "def get_classes_per_image(mask_data, class_labels):\n",
        "    unique = list(np.unique(mask_data))\n",
        "    #print(f\"unique: {unique}\")\n",
        "    result_dict = {}\n",
        "    for _class in class_labels.keys():\n",
        "        #print(f\"_class: {_class}\")\n",
        "        result_dict[class_labels[_class]] = int(_class in unique)\n",
        "        #print(f\"result_dict: {result_dict}\")\n",
        "    return result_dict\n",
        "\n",
        "def _create_table(image_files, class_labels):\n",
        "    \"Create a table with the dataset\"\n",
        "    #print(f\"class_labels: {class_labels}\")\n",
        "    #for _lab in list(class_labels):\n",
        "    #  print(_lab)\n",
        "    labels = [str(class_labels[_lab]) for _lab in list(class_labels)]\n",
        "    #print(f\"labels: {labels}\")\n",
        "    table = wandb.Table(columns=[\"File_Name\", \"Images\", \"Split\"] + labels)\n",
        "    \n",
        "    for i, image_file in progress_bar(enumerate(image_files), total=len(image_files)):\n",
        "        image = Image.open(image_file)\n",
        "        #print(f\"image :{image}\")\n",
        "        #print(f\"image_file :{image_file}\")\n",
        "        mask_data = np.array(Image.open(label_func(image_file)))\n",
        "        np.set_printoptions(threshold=np.inf)\n",
        "        #print(f\"mask_data :{mask_data}\")\n",
        "        class_in_image = get_classes_per_image(mask_data, class_labels)\n",
        "        table.add_data(\n",
        "            str(image_file.name),\n",
        "            wandb.Image(\n",
        "                    image,\n",
        "                    masks={\n",
        "                        \"predictions\": {\n",
        "                            \"mask_data\": mask_data,\n",
        "                            \"class_labels\": class_labels,\n",
        "                        }\n",
        "                    }\n",
        "            ),\n",
        "            \"None\", # we don't have a dataset split yet\n",
        "            *[class_in_image[_lab] for _lab in labels]\n",
        "        )\n",
        "    \n",
        "    return table"
      ],
      "id": "5779f980-4d9b-4645-9726-642a25334e10"
    },
    {
      "cell_type": "markdown",
      "metadata": {
        "id": "eac085cd-2409-4baf-a887-108e3dca65b9"
      },
      "source": [
        "We will start a new W&B `run` and put everything into a raw Artifact."
      ],
      "id": "eac085cd-2409-4baf-a887-108e3dca65b9"
    },
    {
      "cell_type": "code",
      "execution_count": null,
      "metadata": {
        "colab": {
          "base_uri": "https://localhost:8080/",
          "height": 104
        },
        "id": "e87141b3-b9b7-4a40-839c-64c835484f48",
        "outputId": "236bdbcf-2e3d-49c7-d487-47895d4bfb76"
      },
      "outputs": [
        {
          "data": {
            "text/html": [
              "Tracking run with wandb version 0.13.10"
            ],
            "text/plain": [
              "<IPython.core.display.HTML object>"
            ]
          },
          "metadata": {},
          "output_type": "display_data"
        },
        {
          "data": {
            "text/html": [
              "Run data is saved locally in <code>/content/wandb/run-20230216_104059-6ngkk1ln</code>"
            ],
            "text/plain": [
              "<IPython.core.display.HTML object>"
            ]
          },
          "metadata": {},
          "output_type": "display_data"
        },
        {
          "data": {
            "text/html": [
              "Syncing run <strong><a href='https://wandb.ai/mlopscloud/mlops-course-001/runs/6ngkk1ln' target=\"_blank\">polished-frog-2</a></strong> to <a href='https://wandb.ai/mlopscloud/mlops-course-001' target=\"_blank\">Weights & Biases</a> (<a href='https://wandb.me/run' target=\"_blank\">docs</a>)<br/>"
            ],
            "text/plain": [
              "<IPython.core.display.HTML object>"
            ]
          },
          "metadata": {},
          "output_type": "display_data"
        },
        {
          "data": {
            "text/html": [
              " View project at <a href='https://wandb.ai/mlopscloud/mlops-course-001' target=\"_blank\">https://wandb.ai/mlopscloud/mlops-course-001</a>"
            ],
            "text/plain": [
              "<IPython.core.display.HTML object>"
            ]
          },
          "metadata": {},
          "output_type": "display_data"
        },
        {
          "data": {
            "text/html": [
              " View run at <a href='https://wandb.ai/mlopscloud/mlops-course-001/runs/6ngkk1ln' target=\"_blank\">https://wandb.ai/mlopscloud/mlops-course-001/runs/6ngkk1ln</a>"
            ],
            "text/plain": [
              "<IPython.core.display.HTML object>"
            ]
          },
          "metadata": {},
          "output_type": "display_data"
        }
      ],
      "source": [
        "run = wandb.init(project=params.WANDB_PROJECT, entity=params.ENTITY, job_type=\"upload\")\n",
        "raw_data_at = wandb.Artifact(params.RAW_DATA_AT, type=\"raw_data\")"
      ],
      "id": "e87141b3-b9b7-4a40-839c-64c835484f48"
    },
    {
      "cell_type": "code",
      "execution_count": null,
      "metadata": {
        "colab": {
          "base_uri": "https://localhost:8080/"
        },
        "id": "f2de6968-b465-4e2e-aaf1-787a48c7981e",
        "outputId": "729d65ab-7b02-4f1d-d0e2-4eb343090efe"
      },
      "outputs": [
        {
          "data": {
            "text/plain": [
              "ArtifactManifestEntry(path='LICENSE.txt', digest='X+6ZFkDOlnKesJCNt20yRg==', ref=None, birth_artifact_id=None, size=1594, extra={}, local_path='/root/.local/share/wandb/artifacts/staging/tmpdkoynbre')"
            ]
          },
          "execution_count": 55,
          "metadata": {},
          "output_type": "execute_result"
        }
      ],
      "source": [
        "raw_data_at.add_file(path/'LICENSE.txt', name='LICENSE.txt')"
      ],
      "id": "f2de6968-b465-4e2e-aaf1-787a48c7981e"
    },
    {
      "cell_type": "markdown",
      "metadata": {
        "id": "10addc71-201d-4c29-af23-9a5d9a5cbddf"
      },
      "source": [
        "Let's add the images and label masks."
      ],
      "id": "10addc71-201d-4c29-af23-9a5d9a5cbddf"
    },
    {
      "cell_type": "code",
      "execution_count": null,
      "metadata": {
        "colab": {
          "base_uri": "https://localhost:8080/"
        },
        "id": "e2e29a83-ec60-4518-8b73-078f1719bc8f",
        "outputId": "4fe5759f-b283-45af-e78b-11df019385dd"
      },
      "outputs": [
        {
          "name": "stderr",
          "output_type": "stream",
          "text": [
            "\u001b[34m\u001b[1mwandb\u001b[0m: Adding directory to artifact (/root/.fastai/data/bdd_simple_1k/images)... Done. 0.9s\n",
            "\u001b[34m\u001b[1mwandb\u001b[0m: Adding directory to artifact (/root/.fastai/data/bdd_simple_1k/labels)... Done. 0.5s\n"
          ]
        }
      ],
      "source": [
        "raw_data_at.add_dir(path/'images', name='images')\n",
        "raw_data_at.add_dir(path/'labels', name='labels')"
      ],
      "id": "e2e29a83-ec60-4518-8b73-078f1719bc8f"
    },
    {
      "cell_type": "markdown",
      "metadata": {
        "id": "01b989eb-36da-4194-9a34-88126749f210"
      },
      "source": [
        "Let's get the file names of images in our dataset and use the function we defined above to create a W&B Table. "
      ],
      "id": "01b989eb-36da-4194-9a34-88126749f210"
    },
    {
      "cell_type": "code",
      "execution_count": null,
      "metadata": {
        "id": "aeaa2dae-1b2b-4c70-8dcf-b079f4f05b86"
      },
      "outputs": [],
      "source": [
        "image_files = get_image_files(path/\"images\", recurse=False)\n",
        "\n",
        "# sample a subset if DEBUG\n",
        "if DEBUG: image_files = image_files[:1]"
      ],
      "id": "aeaa2dae-1b2b-4c70-8dcf-b079f4f05b86"
    },
    {
      "cell_type": "code",
      "execution_count": null,
      "metadata": {
        "colab": {
          "background_save": true,
          "base_uri": "https://localhost:8080/",
          "height": 37
        },
        "id": "451ff088-4cb3-4739-b4e8-308d03645ffe",
        "outputId": "c4a2a026-dfbc-4fec-fbf3-4f40590ed1cf"
      },
      "outputs": [
        {
          "data": {
            "text/html": [
              "\n",
              "<style>\n",
              "    /* Turns off some styling */\n",
              "    progress {\n",
              "        /* gets rid of default border in Firefox and Opera. */\n",
              "        border: none;\n",
              "        /* Needs to be in here for Safari polyfill so background images work as expected. */\n",
              "        background-size: auto;\n",
              "    }\n",
              "    progress:not([value]), progress:not([value])::-webkit-progress-bar {\n",
              "        background: repeating-linear-gradient(45deg, #7e7e7e, #7e7e7e 10px, #5c5c5c 10px, #5c5c5c 20px);\n",
              "    }\n",
              "    .progress-bar-interrupted, .progress-bar-interrupted::-webkit-progress-bar {\n",
              "        background: #F44336;\n",
              "    }\n",
              "</style>\n"
            ],
            "text/plain": [
              "<IPython.core.display.HTML object>"
            ]
          },
          "metadata": {},
          "output_type": "display_data"
        },
        {
          "data": {
            "text/html": [
              "\n",
              "    <div>\n",
              "      <progress value='1000' class='' max='1000' style='width:300px; height:20px; vertical-align: middle;'></progress>\n",
              "      100.00% [1000/1000 05:23&lt;00:00]\n",
              "    </div>\n",
              "    "
            ],
            "text/plain": [
              "<IPython.core.display.HTML object>"
            ]
          },
          "metadata": {},
          "output_type": "display_data"
        }
      ],
      "source": [
        "table = _create_table(image_files, params.BDD_CLASSES)"
      ],
      "id": "451ff088-4cb3-4739-b4e8-308d03645ffe"
    },
    {
      "cell_type": "code",
      "execution_count": null,
      "metadata": {
        "colab": {
          "background_save": true
        },
        "id": "CS4snSXdk5Tt",
        "outputId": "3cb98849-9d79-4733-9e44-9b44a9363211"
      },
      "outputs": [
        {
          "data": {
            "text/plain": [
              "(#1000) [Path('/root/.fastai/data/bdd_simple_1k/images/5ffe9db5-fd4e0001.jpg'),Path('/root/.fastai/data/bdd_simple_1k/images/4d31466d-21002ea9.jpg'),Path('/root/.fastai/data/bdd_simple_1k/images/6ee57024-3c9e350d.jpg'),Path('/root/.fastai/data/bdd_simple_1k/images/115e4aff-00000000.jpg'),Path('/root/.fastai/data/bdd_simple_1k/images/941f3bb8-1184941a.jpg'),Path('/root/.fastai/data/bdd_simple_1k/images/a5dd241e-e61c0e76.jpg'),Path('/root/.fastai/data/bdd_simple_1k/images/4ddaf49d-46e97f82.jpg'),Path('/root/.fastai/data/bdd_simple_1k/images/377f88d4-00000000.jpg'),Path('/root/.fastai/data/bdd_simple_1k/images/5d2d790d-3d1b8b5d.jpg'),Path('/root/.fastai/data/bdd_simple_1k/images/1bc82b26-7f99de31.jpg')...]"
            ]
          },
          "execution_count": 101,
          "metadata": {},
          "output_type": "execute_result"
        }
      ],
      "source": [
        "\n",
        "(path/\"images\").ls()"
      ],
      "id": "CS4snSXdk5Tt"
    },
    {
      "cell_type": "code",
      "execution_count": null,
      "metadata": {
        "colab": {
          "background_save": true
        },
        "id": "oc8SBoE3k7wO",
        "outputId": "a0c0cbb0-ba35-4e93-d26b-7c7565931c6a"
      },
      "outputs": [
        {
          "data": {
            "text/plain": [
              "(#1001) [Path('/root/.fastai/data/bdd_simple_1k/labels/8c976e04-47482559_mask.png'),Path('/root/.fastai/data/bdd_simple_1k/labels/6a6e903e-71e70666_mask.png'),Path('/root/.fastai/data/bdd_simple_1k/labels/5b4d4333-d74a0d2a_mask.png'),Path('/root/.fastai/data/bdd_simple_1k/labels/7f1d11ea-fdf50001_mask.png'),Path('/root/.fastai/data/bdd_simple_1k/labels/58a6d4a6-a959f89a_mask.png'),Path('/root/.fastai/data/bdd_simple_1k/labels/23ae9ed0-8b5e7a2b_mask.png'),Path('/root/.fastai/data/bdd_simple_1k/labels/197c8ab8-da380000_mask.png'),Path('/root/.fastai/data/bdd_simple_1k/labels/90c4d040-61fa675b_mask.png'),Path('/root/.fastai/data/bdd_simple_1k/labels/1f7d6452-22ae9b98_mask.png'),Path('/root/.fastai/data/bdd_simple_1k/labels/3ece6409-7245f7ab_mask.png')...]"
            ]
          },
          "execution_count": 102,
          "metadata": {},
          "output_type": "execute_result"
        }
      ],
      "source": [
        "(path/\"labels\").ls()"
      ],
      "id": "oc8SBoE3k7wO"
    },
    {
      "cell_type": "markdown",
      "metadata": {
        "id": "ff73cd37-6a72-44f7-a5cf-6abe7d327092"
      },
      "source": [
        "Finally, we will add the Table to our Artifact, log it to W&B and finish our `run`. "
      ],
      "id": "ff73cd37-6a72-44f7-a5cf-6abe7d327092"
    },
    {
      "cell_type": "code",
      "execution_count": null,
      "metadata": {
        "colab": {
          "base_uri": "https://localhost:8080/",
          "height": 311
        },
        "id": "d4183e9c-75e4-48a8-a2e1-0f4492c0b5d0",
        "outputId": "f6cf27a8-329c-4d4d-bbad-9a728d780d89"
      },
      "outputs": [
        {
          "output_type": "error",
          "ename": "ValueError",
          "evalue": "ignored",
          "traceback": [
            "\u001b[0;31m---------------------------------------------------------------------------\u001b[0m",
            "\u001b[0;31mValueError\u001b[0m                                Traceback (most recent call last)",
            "\u001b[0;32m<ipython-input-105-4a8b3fca60dd>\u001b[0m in \u001b[0;36m<module>\u001b[0;34m\u001b[0m\n\u001b[0;32m----> 1\u001b[0;31m \u001b[0mraw_data_at\u001b[0m\u001b[0;34m.\u001b[0m\u001b[0madd\u001b[0m\u001b[0;34m(\u001b[0m\u001b[0mtable\u001b[0m\u001b[0;34m,\u001b[0m \u001b[0;34m\"eda_table\"\u001b[0m\u001b[0;34m)\u001b[0m\u001b[0;34m\u001b[0m\u001b[0;34m\u001b[0m\u001b[0m\n\u001b[0m",
            "\u001b[0;32m/usr/local/lib/python3.8/dist-packages/wandb/sdk/wandb_artifacts.py\u001b[0m in \u001b[0;36madd\u001b[0;34m(self, obj, name)\u001b[0m\n\u001b[1;32m    503\u001b[0m \u001b[0;34m\u001b[0m\u001b[0m\n\u001b[1;32m    504\u001b[0m     \u001b[0;32mdef\u001b[0m \u001b[0madd\u001b[0m\u001b[0;34m(\u001b[0m\u001b[0mself\u001b[0m\u001b[0;34m,\u001b[0m \u001b[0mobj\u001b[0m\u001b[0;34m:\u001b[0m \u001b[0mdata_types\u001b[0m\u001b[0;34m.\u001b[0m\u001b[0mWBValue\u001b[0m\u001b[0;34m,\u001b[0m \u001b[0mname\u001b[0m\u001b[0;34m:\u001b[0m \u001b[0mstr\u001b[0m\u001b[0;34m)\u001b[0m \u001b[0;34m->\u001b[0m \u001b[0mArtifactManifestEntry\u001b[0m\u001b[0;34m:\u001b[0m\u001b[0;34m\u001b[0m\u001b[0;34m\u001b[0m\u001b[0m\n\u001b[0;32m--> 505\u001b[0;31m         \u001b[0mself\u001b[0m\u001b[0;34m.\u001b[0m\u001b[0m_ensure_can_add\u001b[0m\u001b[0;34m(\u001b[0m\u001b[0;34m)\u001b[0m\u001b[0;34m\u001b[0m\u001b[0;34m\u001b[0m\u001b[0m\n\u001b[0m\u001b[1;32m    506\u001b[0m         \u001b[0mname\u001b[0m \u001b[0;34m=\u001b[0m \u001b[0mutil\u001b[0m\u001b[0;34m.\u001b[0m\u001b[0mto_forward_slash_path\u001b[0m\u001b[0;34m(\u001b[0m\u001b[0mname\u001b[0m\u001b[0;34m)\u001b[0m\u001b[0;34m\u001b[0m\u001b[0;34m\u001b[0m\u001b[0m\n\u001b[1;32m    507\u001b[0m \u001b[0;34m\u001b[0m\u001b[0m\n",
            "\u001b[0;32m/usr/local/lib/python3.8/dist-packages/wandb/sdk/wandb_artifacts.py\u001b[0m in \u001b[0;36m_ensure_can_add\u001b[0;34m(self)\u001b[0m\n\u001b[1;32m    738\u001b[0m     \u001b[0;32mdef\u001b[0m \u001b[0m_ensure_can_add\u001b[0m\u001b[0;34m(\u001b[0m\u001b[0mself\u001b[0m\u001b[0;34m)\u001b[0m \u001b[0;34m->\u001b[0m \u001b[0;32mNone\u001b[0m\u001b[0;34m:\u001b[0m\u001b[0;34m\u001b[0m\u001b[0;34m\u001b[0m\u001b[0m\n\u001b[1;32m    739\u001b[0m         \u001b[0;32mif\u001b[0m \u001b[0mself\u001b[0m\u001b[0;34m.\u001b[0m\u001b[0m_final\u001b[0m\u001b[0;34m:\u001b[0m\u001b[0;34m\u001b[0m\u001b[0;34m\u001b[0m\u001b[0m\n\u001b[0;32m--> 740\u001b[0;31m             \u001b[0;32mraise\u001b[0m \u001b[0mValueError\u001b[0m\u001b[0;34m(\u001b[0m\u001b[0;34m\"Can't add to finalized artifact.\"\u001b[0m\u001b[0;34m)\u001b[0m\u001b[0;34m\u001b[0m\u001b[0;34m\u001b[0m\u001b[0m\n\u001b[0m\u001b[1;32m    741\u001b[0m \u001b[0;34m\u001b[0m\u001b[0m\n\u001b[1;32m    742\u001b[0m     def _add_local_file(\n",
            "\u001b[0;31mValueError\u001b[0m: Can't add to finalized artifact."
          ]
        }
      ],
      "source": [
        "raw_data_at.add(table, \"eda_table\")"
      ],
      "id": "d4183e9c-75e4-48a8-a2e1-0f4492c0b5d0"
    },
    {
      "cell_type": "code",
      "execution_count": null,
      "metadata": {
        "id": "e81ed9c8-6905-4841-a9f7-e3f3b9b6d927",
        "outputId": "e1f1364c-92a1-46f2-ea87-046e9e7f0ce8",
        "colab": {
          "base_uri": "https://localhost:8080/",
          "height": 86
        }
      },
      "outputs": [
        {
          "data": {
            "text/html": [
              "Waiting for W&B process to finish... <strong style=\"color:green\">(success).</strong>"
            ],
            "text/plain": [
              "<IPython.core.display.HTML object>"
            ]
          },
          "metadata": {},
          "output_type": "display_data"
        },
        {
          "data": {
            "text/html": [
              " View run <strong style=\"color:#cdcd00\">spring-glitter-1</strong> at: <a href='https://wandb.ai/mlopscloud/mlops-course-001/runs/xjw14ua0' target=\"_blank\">https://wandb.ai/mlopscloud/mlops-course-001/runs/xjw14ua0</a><br/>Synced 5 W&B file(s), 0 media file(s), 4007 artifact file(s) and 0 other file(s)"
            ],
            "text/plain": [
              "<IPython.core.display.HTML object>"
            ]
          },
          "metadata": {},
          "output_type": "display_data"
        },
        {
          "data": {
            "text/html": [
              "Find logs at: <code>./wandb/run-20230216_110414-xjw14ua0/logs</code>"
            ],
            "text/plain": [
              "<IPython.core.display.HTML object>"
            ]
          },
          "metadata": {},
          "output_type": "display_data"
        }
      ],
      "source": [
        "run.log_artifact(raw_data_at)\n",
        "run.finish()"
      ],
      "id": "e81ed9c8-6905-4841-a9f7-e3f3b9b6d927"
    },
    {
      "cell_type": "markdown",
      "metadata": {
        "id": "gowKM5eDQ9Fs"
      },
      "source": [
        "### **Parte2**"
      ],
      "id": "gowKM5eDQ9Fs"
    },
    {
      "cell_type": "markdown",
      "metadata": {
        "id": "vIYJNGW17MWD"
      },
      "source": [
        "Data preparation\n",
        "In this notebook we will prepare the data to later train our deep learning model. To do so,\n",
        "\n",
        "we will start a new W&B run and use our raw data artifact\n",
        "split the data and save the splits into a new W&B Artifact\n",
        "join information about the split with our EDA Table"
      ],
      "id": "vIYJNGW17MWD"
    },
    {
      "cell_type": "code",
      "execution_count": null,
      "metadata": {
        "id": "_Gj7xKJNRIxx"
      },
      "outputs": [],
      "source": [
        "!pip install wandb"
      ],
      "id": "_Gj7xKJNRIxx"
    },
    {
      "cell_type": "code",
      "execution_count": null,
      "metadata": {
        "id": "MlGGDjHQ5IkM"
      },
      "outputs": [],
      "source": [
        "import os, warnings\n",
        "import wandb\n",
        "\n",
        "import pandas as pd\n",
        "from fastai.vision.all import *\n",
        "from sklearn.model_selection import StratifiedGroupKFold\n",
        "\n",
        "from wandbmodules import params\n",
        "warnings.filterwarnings('ignore')"
      ],
      "id": "MlGGDjHQ5IkM"
    },
    {
      "cell_type": "code",
      "execution_count": null,
      "metadata": {
        "id": "vZeJMmzW5KRp"
      },
      "outputs": [],
      "source": [
        "run = wandb.init(project=params.WANDB_PROJECT, entity=params.ENTITY, job_type=\"data_split\")"
      ],
      "id": "vZeJMmzW5KRp"
    },
    {
      "cell_type": "markdown",
      "metadata": {
        "id": "milwvHf77PEf"
      },
      "source": [
        "Let's use artifact we previously saved to W&B (we're storing artifact names and other global parameters in params)."
      ],
      "id": "milwvHf77PEf"
    },
    {
      "cell_type": "code",
      "execution_count": null,
      "metadata": {
        "id": "_js2AG5d5KWp"
      },
      "outputs": [],
      "source": [
        "raw_data_at = run.use_artifact(f'{params.RAW_DATA_AT}:latest')\n",
        "path = Path(raw_data_at.download())"
      ],
      "id": "_js2AG5d5KWp"
    },
    {
      "cell_type": "code",
      "execution_count": null,
      "metadata": {
        "id": "UkJHmss45KZQ"
      },
      "outputs": [],
      "source": [
        "path.ls()"
      ],
      "id": "UkJHmss45KZQ"
    },
    {
      "cell_type": "markdown",
      "metadata": {
        "id": "qP-I1X-26TEP"
      },
      "source": [
        "To split data between training, testing and validation, we need file names, groups (derived from the file name) and target (here we use our rare class bicycle for stratification). We previously saved these columns to EDA table, so let's retrieve it from the table now."
      ],
      "id": "qP-I1X-26TEP"
    },
    {
      "cell_type": "code",
      "execution_count": null,
      "metadata": {
        "id": "8y1n15Uw5KeD"
      },
      "outputs": [],
      "source": [
        "fnames = os.listdir(path/'images')\n",
        "groups = [s.split('-')[0] for s in fnames]"
      ],
      "id": "8y1n15Uw5KeD"
    },
    {
      "cell_type": "code",
      "execution_count": null,
      "metadata": {
        "id": "uUG_dtns5Kgr"
      },
      "outputs": [],
      "source": [
        "orig_eda_table = raw_data_at.get(\"eda_table\")"
      ],
      "id": "uUG_dtns5Kgr"
    },
    {
      "cell_type": "code",
      "execution_count": null,
      "metadata": {
        "id": "oIVQ3VWT5KjG"
      },
      "outputs": [],
      "source": [
        "y = orig_eda_table.get_column('bicycle')"
      ],
      "id": "oIVQ3VWT5KjG"
    },
    {
      "cell_type": "markdown",
      "metadata": {
        "id": "cxmralMv6hEM"
      },
      "source": [
        "Now we will split the data into train (80%), validation (10%) and test (10%) sets. As we do that, we need to be careful to:\n",
        "\n",
        "avoid leakage: for that reason we are grouping data according to video identifier (we want to make sure our model can generalize to new cars or video frames)\n",
        "handle the label imbalance: for that reason we stratify data with our target column\n",
        "We will use sklearn's StratifiedGroupKFold to split the data into 10 folds and assign 1 fold for test, 1 for validation and the rest for training."
      ],
      "id": "cxmralMv6hEM"
    },
    {
      "cell_type": "code",
      "execution_count": null,
      "metadata": {
        "id": "Tel1XOmg5Kny"
      },
      "outputs": [],
      "source": [
        "df = pd.DataFrame()\n",
        "df['File_Name'] = fnames\n",
        "df['fold'] = -1\n",
        "     "
      ],
      "id": "Tel1XOmg5Kny"
    },
    {
      "cell_type": "code",
      "execution_count": null,
      "metadata": {
        "id": "aVvmGe7A5Kqn"
      },
      "outputs": [],
      "source": [
        "cv = StratifiedGroupKFold(n_splits=10)\n",
        "for i, (train_idxs, test_idxs) in enumerate(cv.split(fnames, y, groups)):\n",
        "    df.loc[test_idxs, ['fold']] = i"
      ],
      "id": "aVvmGe7A5Kqn"
    },
    {
      "cell_type": "code",
      "execution_count": null,
      "metadata": {
        "colab": {
          "base_uri": "https://localhost:8080/"
        },
        "id": "JU1hpmBI6owK",
        "outputId": "5eaaabdc-5b50-4ace-9d2b-5f2e39f0e32b"
      },
      "outputs": [
        {
          "data": {
            "text/plain": [
              "train    800\n",
              "valid    100\n",
              "test     100\n",
              "Name: Stage, dtype: int64"
            ]
          },
          "execution_count": 19,
          "metadata": {},
          "output_type": "execute_result"
        }
      ],
      "source": [
        "df['Stage'] = 'train'\n",
        "df.loc[df.fold == 0, ['Stage']] = 'test'\n",
        "df.loc[df.fold == 1, ['Stage']] = 'valid'\n",
        "del df['fold']\n",
        "df.Stage.value_counts()"
      ],
      "id": "JU1hpmBI6owK"
    },
    {
      "cell_type": "code",
      "execution_count": null,
      "metadata": {
        "id": "ilZBhPBX6qVi"
      },
      "outputs": [],
      "source": [
        "df.to_csv('data_split.csv', index=False)"
      ],
      "id": "ilZBhPBX6qVi"
    },
    {
      "cell_type": "markdown",
      "metadata": {
        "id": "SIlcxo436tG9"
      },
      "source": [
        "We will now create a new artifact and add our data there."
      ],
      "id": "SIlcxo436tG9"
    },
    {
      "cell_type": "code",
      "execution_count": null,
      "metadata": {
        "id": "Ndb2gamE6rxq"
      },
      "outputs": [],
      "source": [
        "processed_data_at = wandb.Artifact(params.PROCESSED_DATA_AT, type=\"split_data\")"
      ],
      "id": "Ndb2gamE6rxq"
    },
    {
      "cell_type": "code",
      "execution_count": null,
      "metadata": {
        "colab": {
          "base_uri": "https://localhost:8080/"
        },
        "id": "C5DBhoAw6zf_",
        "outputId": "05527438-5ff8-4ace-e9ed-65f0ac58e391"
      },
      "outputs": [
        {
          "name": "stderr",
          "output_type": "stream",
          "text": [
            "\u001b[34m\u001b[1mwandb\u001b[0m: Adding directory to artifact (./artifacts/bdd_simple_1k:v0)... Done. 4.7s\n"
          ]
        }
      ],
      "source": [
        "processed_data_at.add_file('data_split.csv')\n",
        "processed_data_at.add_dir(path)"
      ],
      "id": "C5DBhoAw6zf_"
    },
    {
      "cell_type": "markdown",
      "metadata": {
        "id": "9MERPak862_Q"
      },
      "source": [
        "Finally, the split information may be relevant for our analyses - rather than uploading images again, we will save the split information to a new table and join it with EDA table we created previously."
      ],
      "id": "9MERPak862_Q"
    },
    {
      "cell_type": "code",
      "execution_count": null,
      "metadata": {
        "id": "BzXngq2u6vJL"
      },
      "outputs": [],
      "source": [
        "data_split_table = wandb.Table(dataframe=df[['File_Name', 'Stage']])"
      ],
      "id": "BzXngq2u6vJL"
    },
    {
      "cell_type": "code",
      "execution_count": null,
      "metadata": {
        "id": "Ed38uaQT65Sr"
      },
      "outputs": [],
      "source": [
        "join_table = wandb.JoinedTable(orig_eda_table, data_split_table, \"File_Name\")"
      ],
      "id": "Ed38uaQT65Sr"
    },
    {
      "cell_type": "markdown",
      "metadata": {
        "id": "ZQezacnV68t4"
      },
      "source": [
        "Let's add it to our artifact, log it and finish our run."
      ],
      "id": "ZQezacnV68t4"
    },
    {
      "cell_type": "code",
      "execution_count": null,
      "metadata": {
        "colab": {
          "base_uri": "https://localhost:8080/"
        },
        "id": "X4xyko6f66vP",
        "outputId": "65a01060-d47b-46c4-9e1f-42a9ca2bbb04"
      },
      "outputs": [
        {
          "data": {
            "text/plain": [
              "ArtifactManifestEntry(path='eda_table_data_split.joined-table.json', digest='3DQw8QZSt7+FkxDuaHSg7A==', ref=None, birth_artifact_id=None, size=127, extra={}, local_path='/root/.local/share/wandb/artifacts/staging/tmpdr5z4npn')"
            ]
          },
          "execution_count": 27,
          "metadata": {},
          "output_type": "execute_result"
        }
      ],
      "source": [
        "processed_data_at.add(join_table, \"eda_table_data_split\")"
      ],
      "id": "X4xyko6f66vP"
    },
    {
      "cell_type": "code",
      "execution_count": null,
      "metadata": {
        "colab": {
          "base_uri": "https://localhost:8080/",
          "height": 86
        },
        "id": "XRojkcPm6-Ib",
        "outputId": "390d1168-337b-45a4-93f1-c0ca7242389e"
      },
      "outputs": [
        {
          "data": {
            "text/html": [
              "Waiting for W&B process to finish... <strong style=\"color:green\">(success).</strong>"
            ],
            "text/plain": [
              "<IPython.core.display.HTML object>"
            ]
          },
          "metadata": {},
          "output_type": "display_data"
        },
        {
          "data": {
            "text/html": [
              " View run <strong style=\"color:#cdcd00\">light-leaf-3</strong> at: <a href=\"https://wandb.ai/lzeladam/mlops-course-001/runs/czwjvg8m\" target=\"_blank\">https://wandb.ai/lzeladam/mlops-course-001/runs/czwjvg8m</a><br/>Synced 5 W&B file(s), 0 media file(s), 4009 artifact file(s) and 0 other file(s)"
            ],
            "text/plain": [
              "<IPython.core.display.HTML object>"
            ]
          },
          "metadata": {},
          "output_type": "display_data"
        },
        {
          "data": {
            "text/html": [
              "Find logs at: <code>./wandb/run-20230207_142923-czwjvg8m/logs</code>"
            ],
            "text/plain": [
              "<IPython.core.display.HTML object>"
            ]
          },
          "metadata": {},
          "output_type": "display_data"
        }
      ],
      "source": [
        "run.log_artifact(processed_data_at)\n",
        "run.finish()"
      ],
      "id": "XRojkcPm6-Ib"
    },
    {
      "cell_type": "markdown",
      "metadata": {
        "id": "v9TIlC6LV6Tw"
      },
      "source": [
        "### **Parte3**\n"
      ],
      "id": "v9TIlC6LV6Tw"
    },
    {
      "cell_type": "markdown",
      "metadata": {
        "id": "297IjOZh9Yke"
      },
      "source": [
        "Baseline solution\n",
        "In this notebook we will create a baseline solution to our semantic segmentation problem. To iterate fast a notebook is a handy solution. We will then refactor this code into a script to be able to use hyperparameter sweeps."
      ],
      "id": "297IjOZh9Yke"
    },
    {
      "cell_type": "code",
      "execution_count": null,
      "metadata": {
        "id": "66oVYpzdGt3R"
      },
      "outputs": [],
      "source": [
        "import sys\n",
        "sys.path.append('/content/gdrive/MyDrive')"
      ],
      "id": "66oVYpzdGt3R"
    },
    {
      "cell_type": "code",
      "execution_count": null,
      "metadata": {
        "id": "6Yc3wa_C6_6z"
      },
      "outputs": [],
      "source": [
        "import wandb\n",
        "import pandas as pd\n",
        "from fastai.vision.all import *\n",
        "from fastai.callback.wandb import WandbCallback\n",
        "\n",
        "from wandbmodules import utils, params\n",
        "from wandbmodules.utils import get_predictions, create_iou_table, MIOU, BackgroundIOU, RoadIOU, TrafficLightIOU, TrafficSignIOU, PersonIOU, VehicleIOU, BicycleIOU\n",
        "     \n"
      ],
      "id": "6Yc3wa_C6_6z"
    },
    {
      "cell_type": "markdown",
      "metadata": {
        "id": "HtHV99Gu9ic_"
      },
      "source": [
        "Again, we're importing some global configuration parameters from params.py file. We have also defined some helper functions in utils.py - for example metrics we will track during our experiments.\n",
        "\n",
        "Let's now create a train_config that we'll pass to W&B run to control training hyperparameters."
      ],
      "id": "HtHV99Gu9ic_"
    },
    {
      "cell_type": "code",
      "execution_count": null,
      "metadata": {
        "id": "0PVM4PhR9elP"
      },
      "outputs": [],
      "source": [
        "\n",
        "train_config = SimpleNamespace(\n",
        "    framework=\"fastai\",\n",
        "    img_size=(180, 320),\n",
        "    batch_size=8,\n",
        "    augment=True, # use data augmentation\n",
        "    epochs=10, \n",
        "    lr=2e-3,\n",
        "    pretrained=True,  # whether to use pretrained encoder\n",
        "    seed=42,\n",
        ")"
      ],
      "id": "0PVM4PhR9elP"
    },
    {
      "cell_type": "markdown",
      "metadata": {
        "id": "bwk9lCoF9l3T"
      },
      "source": [
        "We are setting seed for reproducibility."
      ],
      "id": "bwk9lCoF9l3T"
    },
    {
      "cell_type": "code",
      "execution_count": null,
      "metadata": {
        "id": "Xu2DYTsh9kUv"
      },
      "outputs": [],
      "source": [
        "\n",
        "set_seed(train_config.seed, reproducible=True)"
      ],
      "id": "Xu2DYTsh9kUv"
    },
    {
      "cell_type": "code",
      "execution_count": null,
      "metadata": {
        "colab": {
          "base_uri": "https://localhost:8080/",
          "height": 121
        },
        "id": "flsEF2UA9njX",
        "outputId": "577610a3-a75f-44c9-c184-58a321b4ef03"
      },
      "outputs": [
        {
          "name": "stderr",
          "output_type": "stream",
          "text": [
            "\u001b[34m\u001b[1mwandb\u001b[0m: Currently logged in as: \u001b[33mlzeladam\u001b[0m. Use \u001b[1m`wandb login --relogin`\u001b[0m to force relogin\n"
          ]
        },
        {
          "data": {
            "text/html": [
              "Tracking run with wandb version 0.13.9"
            ],
            "text/plain": [
              "<IPython.core.display.HTML object>"
            ]
          },
          "metadata": {},
          "output_type": "display_data"
        },
        {
          "data": {
            "text/html": [
              "Run data is saved locally in <code>/content/wandb/run-20230207_145537-1pf1ikka</code>"
            ],
            "text/plain": [
              "<IPython.core.display.HTML object>"
            ]
          },
          "metadata": {},
          "output_type": "display_data"
        },
        {
          "data": {
            "text/html": [
              "Syncing run <strong><a href=\"https://wandb.ai/lzeladam/mlops-course-001/runs/1pf1ikka\" target=\"_blank\">fine-meadow-4</a></strong> to <a href=\"https://wandb.ai/lzeladam/mlops-course-001\" target=\"_blank\">Weights & Biases</a> (<a href=\"https://wandb.me/run\" target=\"_blank\">docs</a>)<br/>"
            ],
            "text/plain": [
              "<IPython.core.display.HTML object>"
            ]
          },
          "metadata": {},
          "output_type": "display_data"
        },
        {
          "data": {
            "text/html": [
              " View project at <a href=\"https://wandb.ai/lzeladam/mlops-course-001\" target=\"_blank\">https://wandb.ai/lzeladam/mlops-course-001</a>"
            ],
            "text/plain": [
              "<IPython.core.display.HTML object>"
            ]
          },
          "metadata": {},
          "output_type": "display_data"
        },
        {
          "data": {
            "text/html": [
              " View run at <a href=\"https://wandb.ai/lzeladam/mlops-course-001/runs/1pf1ikka\" target=\"_blank\">https://wandb.ai/lzeladam/mlops-course-001/runs/1pf1ikka</a>"
            ],
            "text/plain": [
              "<IPython.core.display.HTML object>"
            ]
          },
          "metadata": {},
          "output_type": "display_data"
        }
      ],
      "source": [
        "run = wandb.init(project=params.WANDB_PROJECT, entity=params.ENTITY, job_type=\"training\", config=train_config)"
      ],
      "id": "flsEF2UA9njX"
    },
    {
      "cell_type": "markdown",
      "metadata": {
        "id": "ZFef07so9tdP"
      },
      "source": [
        "As usual, we will use W&B Artifacts to track the lineage of our models.\n",
        "\n"
      ],
      "id": "ZFef07so9tdP"
    },
    {
      "cell_type": "code",
      "execution_count": null,
      "metadata": {
        "colab": {
          "base_uri": "https://localhost:8080/"
        },
        "id": "PbjmSxgs9rX5",
        "outputId": "d1b09a6f-3814-4bac-852f-40b6695f8854"
      },
      "outputs": [
        {
          "name": "stderr",
          "output_type": "stream",
          "text": [
            "\u001b[34m\u001b[1mwandb\u001b[0m: Downloading large artifact bdd_simple_1k_split:latest, 813.25MB. 4010 files... \n",
            "\u001b[34m\u001b[1mwandb\u001b[0m:   4010 of 4010 files downloaded.  \n",
            "Done. 0:0:3.6\n"
          ]
        }
      ],
      "source": [
        "processed_data_at = run.use_artifact(f'{params.PROCESSED_DATA_AT}:latest')\n",
        "processed_dataset_dir = Path(processed_data_at.download())\n",
        "df = pd.read_csv(processed_dataset_dir / 'data_split.csv')"
      ],
      "id": "PbjmSxgs9rX5"
    },
    {
      "cell_type": "markdown",
      "metadata": {
        "id": "b4EU8Dke9zlH"
      },
      "source": [
        "We will not use the hold out dataset stage at this moment. is_valid column will tell our trainer how we want to split data between training and validation."
      ],
      "id": "b4EU8Dke9zlH"
    },
    {
      "cell_type": "code",
      "execution_count": null,
      "metadata": {
        "id": "bzY0eON59yDq"
      },
      "outputs": [],
      "source": [
        "df = df[df.Stage != 'test'].reset_index(drop=True)\n",
        "df['is_valid'] = df.Stage == 'valid'"
      ],
      "id": "bzY0eON59yDq"
    },
    {
      "cell_type": "code",
      "execution_count": null,
      "metadata": {
        "id": "FKQrupbz9yAy"
      },
      "outputs": [],
      "source": [
        "\n",
        "def label_func(fname):\n",
        "    return (fname.parent.parent/\"labels\")/f\"{fname.stem}_mask.png\""
      ],
      "id": "FKQrupbz9yAy"
    },
    {
      "cell_type": "markdown",
      "metadata": {
        "id": "S64bW0L096im"
      },
      "source": [
        "We will use fastai's DataBlock API to feed data into model training and validation."
      ],
      "id": "S64bW0L096im"
    },
    {
      "cell_type": "code",
      "execution_count": null,
      "metadata": {
        "id": "G4_HgQ6L9x-F"
      },
      "outputs": [],
      "source": [
        "# assign paths\n",
        "df[\"image_fname\"] = [processed_dataset_dir/f'images/{f}' for f in df.File_Name.values]\n",
        "df[\"label_fname\"] = [label_func(f) for f in df.image_fname.values]"
      ],
      "id": "G4_HgQ6L9x-F"
    },
    {
      "cell_type": "code",
      "execution_count": null,
      "metadata": {
        "id": "e08RTU7I9x7L"
      },
      "outputs": [],
      "source": [
        "def get_data(df, bs=4, img_size=(180, 320), augment=True):\n",
        "    block = DataBlock(blocks=(ImageBlock, MaskBlock(codes=params.BDD_CLASSES)),\n",
        "                  get_x=ColReader(\"image_fname\"),\n",
        "                  get_y=ColReader(\"label_fname\"),\n",
        "                  splitter=ColSplitter(),\n",
        "                  item_tfms=Resize(img_size),\n",
        "                  batch_tfms=aug_transforms() if augment else None,\n",
        "                 )\n",
        "    return block.dataloaders(df, bs=bs)"
      ],
      "id": "e08RTU7I9x7L"
    },
    {
      "cell_type": "markdown",
      "metadata": {
        "id": "GfO7Htmq9_Em"
      },
      "source": [
        "We are using wandb.config to track our training hyperparameters."
      ],
      "id": "GfO7Htmq9_Em"
    },
    {
      "cell_type": "code",
      "execution_count": null,
      "metadata": {
        "id": "Lc85sdtK9xEj"
      },
      "outputs": [],
      "source": [
        "config = wandb.config"
      ],
      "id": "Lc85sdtK9xEj"
    },
    {
      "cell_type": "code",
      "execution_count": null,
      "metadata": {
        "colab": {
          "base_uri": "https://localhost:8080/"
        },
        "id": "QWX2J4SdJUs6",
        "outputId": "e074415b-344b-420d-a334-44a7aad7ee1a"
      },
      "outputs": [
        {
          "data": {
            "text/plain": [
              "{'framework': 'fastai', 'img_size': [180, 320], 'batch_size': 8, 'augment': True, 'epochs': 10, 'lr': 0.002, 'pretrained': True, 'seed': 42}"
            ]
          },
          "execution_count": 54,
          "metadata": {},
          "output_type": "execute_result"
        }
      ],
      "source": [
        "config"
      ],
      "id": "QWX2J4SdJUs6"
    },
    {
      "cell_type": "code",
      "execution_count": null,
      "metadata": {
        "id": "nMuX-_wN-BD3"
      },
      "outputs": [],
      "source": [
        "dls = get_data(df, bs=config.batch_size, img_size=config.img_size, augment=config.augment)"
      ],
      "id": "nMuX-_wN-BD3"
    },
    {
      "cell_type": "markdown",
      "metadata": {
        "id": "VbPn42zB-GL_"
      },
      "source": [
        "We will use intersection over union metrics: mean across all classes (MIOU) and IOU for each class separately. Our model will be a unet based on pretrained resnet18 backbone."
      ],
      "id": "VbPn42zB-GL_"
    },
    {
      "cell_type": "code",
      "execution_count": null,
      "metadata": {
        "colab": {
          "base_uri": "https://localhost:8080/",
          "height": 86,
          "referenced_widgets": [
            "65b0e62b829745e0946a81ddb8ff7bda",
            "f378c2f2fd8d43189b840e0cba21bf68",
            "b5dd8daa0db5426082f756648fc2b86f",
            "7699819871f74ca2b3686b04266db14e",
            "94482cd836554e0fb3f09d945a14112d",
            "ad44b2c55cdf4a30b3314676281b2c92",
            "a5467acdcebd49b384568a2faa93528f",
            "7c0075cb6c3b4e4b8bf2fec9d488b67e",
            "856c4195d5224da2a55a0eb7fd3442a3",
            "186d54828d634ef3a54be647a5da5f0e",
            "d7aa628d99734efa9d24b43a247d5944"
          ]
        },
        "id": "osxjvvj1-CiR",
        "outputId": "ac5a6ab7-d794-4880-96e1-e0f9dfb1cf87"
      },
      "outputs": [
        {
          "name": "stderr",
          "output_type": "stream",
          "text": [
            "Downloading: \"https://download.pytorch.org/models/resnet18-f37072fd.pth\" to /root/.cache/torch/hub/checkpoints/resnet18-f37072fd.pth\n"
          ]
        },
        {
          "data": {
            "application/vnd.jupyter.widget-view+json": {
              "model_id": "65b0e62b829745e0946a81ddb8ff7bda",
              "version_major": 2,
              "version_minor": 0
            },
            "text/plain": [
              "  0%|          | 0.00/44.7M [00:00<?, ?B/s]"
            ]
          },
          "metadata": {},
          "output_type": "display_data"
        }
      ],
      "source": [
        "metrics = [MIOU(), BackgroundIOU(), RoadIOU(), TrafficLightIOU(), \\\n",
        "           TrafficSignIOU(), PersonIOU(), VehicleIOU(), BicycleIOU()]\n",
        "\n",
        "learn = unet_learner(dls, arch=resnet18, pretrained=config.pretrained, metrics=metrics)\n",
        "  "
      ],
      "id": "osxjvvj1-CiR"
    },
    {
      "cell_type": "markdown",
      "metadata": {
        "id": "yqiAOlXAN-iN"
      },
      "source": [
        "In fastai we already have a callback that integrates tightly with W&B, we only need to pass the WandbCallback to the learner and we are ready to go. The callback will log all the useful variables for us. For example, whatever metric we pass to the learner will be tracked by the callback."
      ],
      "id": "yqiAOlXAN-iN"
    },
    {
      "cell_type": "code",
      "execution_count": null,
      "metadata": {
        "id": "o_AS5vX4JPZC"
      },
      "outputs": [],
      "source": [
        "\n",
        "callbacks = [\n",
        "    SaveModelCallback(monitor='miou'),\n",
        "    WandbCallback(log_preds=False, log_model=True)\n",
        "]"
      ],
      "id": "o_AS5vX4JPZC"
    },
    {
      "cell_type": "markdown",
      "metadata": {
        "id": "07wISkoYOBkx"
      },
      "source": [
        "Let's train our model!"
      ],
      "id": "07wISkoYOBkx"
    },
    {
      "cell_type": "code",
      "execution_count": null,
      "metadata": {
        "colab": {
          "base_uri": "https://localhost:8080/",
          "height": 539
        },
        "id": "-3xhFgGyN_8v",
        "outputId": "ab28ed46-8cb0-4637-bb77-8b61abd62682"
      },
      "outputs": [
        {
          "data": {
            "text/html": [
              "\n",
              "<style>\n",
              "    /* Turns off some styling */\n",
              "    progress {\n",
              "        /* gets rid of default border in Firefox and Opera. */\n",
              "        border: none;\n",
              "        /* Needs to be in here for Safari polyfill so background images work as expected. */\n",
              "        background-size: auto;\n",
              "    }\n",
              "    progress:not([value]), progress:not([value])::-webkit-progress-bar {\n",
              "        background: repeating-linear-gradient(45deg, #7e7e7e, #7e7e7e 10px, #5c5c5c 10px, #5c5c5c 20px);\n",
              "    }\n",
              "    .progress-bar-interrupted, .progress-bar-interrupted::-webkit-progress-bar {\n",
              "        background: #F44336;\n",
              "    }\n",
              "</style>\n"
            ],
            "text/plain": [
              "<IPython.core.display.HTML object>"
            ]
          },
          "metadata": {},
          "output_type": "display_data"
        },
        {
          "data": {
            "text/html": [
              "<table border=\"1\" class=\"dataframe\">\n",
              "  <thead>\n",
              "    <tr style=\"text-align: left;\">\n",
              "      <th>epoch</th>\n",
              "      <th>train_loss</th>\n",
              "      <th>valid_loss</th>\n",
              "      <th>miou</th>\n",
              "      <th>background_iou</th>\n",
              "      <th>road_iou</th>\n",
              "      <th>traffic_light_iou</th>\n",
              "      <th>traffic_sign_iou</th>\n",
              "      <th>person_iou</th>\n",
              "      <th>vehicle_iou</th>\n",
              "      <th>bicycle_iou</th>\n",
              "      <th>time</th>\n",
              "    </tr>\n",
              "  </thead>\n",
              "  <tbody>\n",
              "    <tr>\n",
              "      <td>0</td>\n",
              "      <td>0.519869</td>\n",
              "      <td>0.488336</td>\n",
              "      <td>0.150119</td>\n",
              "      <td>0.719564</td>\n",
              "      <td>0.268039</td>\n",
              "      <td>0.000000</td>\n",
              "      <td>0.000000</td>\n",
              "      <td>0.000000</td>\n",
              "      <td>0.063230</td>\n",
              "      <td>0.000000</td>\n",
              "      <td>00:52</td>\n",
              "    </tr>\n",
              "    <tr>\n",
              "      <td>1</td>\n",
              "      <td>0.371543</td>\n",
              "      <td>0.287116</td>\n",
              "      <td>0.334880</td>\n",
              "      <td>0.891312</td>\n",
              "      <td>0.789182</td>\n",
              "      <td>0.000000</td>\n",
              "      <td>0.000000</td>\n",
              "      <td>0.000000</td>\n",
              "      <td>0.663666</td>\n",
              "      <td>0.000000</td>\n",
              "      <td>00:50</td>\n",
              "    </tr>\n",
              "    <tr>\n",
              "      <td>2</td>\n",
              "      <td>0.371511</td>\n",
              "      <td>0.306927</td>\n",
              "      <td>0.323028</td>\n",
              "      <td>0.870560</td>\n",
              "      <td>0.797487</td>\n",
              "      <td>0.000000</td>\n",
              "      <td>0.000000</td>\n",
              "      <td>0.000000</td>\n",
              "      <td>0.593146</td>\n",
              "      <td>0.000000</td>\n",
              "      <td>00:49</td>\n",
              "    </tr>\n",
              "    <tr>\n",
              "      <td>3</td>\n",
              "      <td>0.311843</td>\n",
              "      <td>0.263902</td>\n",
              "      <td>0.344346</td>\n",
              "      <td>0.903568</td>\n",
              "      <td>0.817864</td>\n",
              "      <td>0.000000</td>\n",
              "      <td>0.003589</td>\n",
              "      <td>0.000000</td>\n",
              "      <td>0.685400</td>\n",
              "      <td>0.000000</td>\n",
              "      <td>00:49</td>\n",
              "    </tr>\n",
              "    <tr>\n",
              "      <td>4</td>\n",
              "      <td>0.268859</td>\n",
              "      <td>0.257055</td>\n",
              "      <td>0.348983</td>\n",
              "      <td>0.905938</td>\n",
              "      <td>0.820556</td>\n",
              "      <td>0.011431</td>\n",
              "      <td>0.000469</td>\n",
              "      <td>0.000000</td>\n",
              "      <td>0.704484</td>\n",
              "      <td>0.000000</td>\n",
              "      <td>00:49</td>\n",
              "    </tr>\n",
              "    <tr>\n",
              "      <td>5</td>\n",
              "      <td>0.244692</td>\n",
              "      <td>0.236134</td>\n",
              "      <td>0.352803</td>\n",
              "      <td>0.911288</td>\n",
              "      <td>0.831298</td>\n",
              "      <td>0.009097</td>\n",
              "      <td>0.000000</td>\n",
              "      <td>0.000000</td>\n",
              "      <td>0.717935</td>\n",
              "      <td>0.000000</td>\n",
              "      <td>00:49</td>\n",
              "    </tr>\n",
              "    <tr>\n",
              "      <td>6</td>\n",
              "      <td>0.225204</td>\n",
              "      <td>0.248345</td>\n",
              "      <td>0.364093</td>\n",
              "      <td>0.907665</td>\n",
              "      <td>0.833872</td>\n",
              "      <td>0.090784</td>\n",
              "      <td>0.000000</td>\n",
              "      <td>0.000000</td>\n",
              "      <td>0.716331</td>\n",
              "      <td>0.000000</td>\n",
              "      <td>00:49</td>\n",
              "    </tr>\n",
              "    <tr>\n",
              "      <td>7</td>\n",
              "      <td>0.198232</td>\n",
              "      <td>0.238001</td>\n",
              "      <td>0.370885</td>\n",
              "      <td>0.916689</td>\n",
              "      <td>0.836729</td>\n",
              "      <td>0.090763</td>\n",
              "      <td>0.000000</td>\n",
              "      <td>0.000000</td>\n",
              "      <td>0.752012</td>\n",
              "      <td>0.000000</td>\n",
              "      <td>00:48</td>\n",
              "    </tr>\n",
              "    <tr>\n",
              "      <td>8</td>\n",
              "      <td>0.189807</td>\n",
              "      <td>0.232065</td>\n",
              "      <td>0.371814</td>\n",
              "      <td>0.918429</td>\n",
              "      <td>0.842106</td>\n",
              "      <td>0.089024</td>\n",
              "      <td>0.000000</td>\n",
              "      <td>0.000000</td>\n",
              "      <td>0.753141</td>\n",
              "      <td>0.000000</td>\n",
              "      <td>00:49</td>\n",
              "    </tr>\n",
              "    <tr>\n",
              "      <td>9</td>\n",
              "      <td>0.181106</td>\n",
              "      <td>0.228729</td>\n",
              "      <td>0.379446</td>\n",
              "      <td>0.919163</td>\n",
              "      <td>0.842285</td>\n",
              "      <td>0.136638</td>\n",
              "      <td>0.000268</td>\n",
              "      <td>0.000000</td>\n",
              "      <td>0.757767</td>\n",
              "      <td>0.000000</td>\n",
              "      <td>00:48</td>\n",
              "    </tr>\n",
              "  </tbody>\n",
              "</table>"
            ],
            "text/plain": [
              "<IPython.core.display.HTML object>"
            ]
          },
          "metadata": {},
          "output_type": "display_data"
        },
        {
          "name": "stdout",
          "output_type": "stream",
          "text": [
            "Better model found at epoch 0 with miou value: 0.15011882278899838.\n",
            "Better model found at epoch 1 with miou value: 0.3348798851119916.\n",
            "Better model found at epoch 3 with miou value: 0.3443458899992291.\n",
            "Better model found at epoch 4 with miou value: 0.3489825142739512.\n",
            "Better model found at epoch 5 with miou value: 0.3528027614255999.\n",
            "Better model found at epoch 6 with miou value: 0.36409313850604036.\n",
            "Better model found at epoch 7 with miou value: 0.3708846211687341.\n",
            "Better model found at epoch 8 with miou value: 0.37181432914173546.\n",
            "Better model found at epoch 9 with miou value: 0.37944599517718247.\n"
          ]
        }
      ],
      "source": [
        "learn.fit_one_cycle(config.epochs, config.lr, cbs=callbacks)"
      ],
      "id": "-3xhFgGyN_8v"
    },
    {
      "cell_type": "markdown",
      "metadata": {
        "id": "xhsnWrubOFF6"
      },
      "source": [],
      "id": "xhsnWrubOFF6"
    },
    {
      "cell_type": "code",
      "execution_count": null,
      "metadata": {
        "colab": {
          "base_uri": "https://localhost:8080/",
          "height": 37
        },
        "id": "-WeW0iKTODi5",
        "outputId": "cd4fdde9-8ab9-4792-8c05-451de48698cf"
      },
      "outputs": [
        {
          "data": {
            "text/html": [
              "\n",
              "<style>\n",
              "    /* Turns off some styling */\n",
              "    progress {\n",
              "        /* gets rid of default border in Firefox and Opera. */\n",
              "        border: none;\n",
              "        /* Needs to be in here for Safari polyfill so background images work as expected. */\n",
              "        background-size: auto;\n",
              "    }\n",
              "    progress:not([value]), progress:not([value])::-webkit-progress-bar {\n",
              "        background: repeating-linear-gradient(45deg, #7e7e7e, #7e7e7e 10px, #5c5c5c 10px, #5c5c5c 20px);\n",
              "    }\n",
              "    .progress-bar-interrupted, .progress-bar-interrupted::-webkit-progress-bar {\n",
              "        background: #F44336;\n",
              "    }\n",
              "</style>\n"
            ],
            "text/plain": [
              "<IPython.core.display.HTML object>"
            ]
          },
          "metadata": {},
          "output_type": "display_data"
        },
        {
          "data": {
            "text/html": [],
            "text/plain": [
              "<IPython.core.display.HTML object>"
            ]
          },
          "metadata": {},
          "output_type": "display_data"
        },
        {
          "data": {
            "text/html": [
              "\n",
              "<style>\n",
              "    /* Turns off some styling */\n",
              "    progress {\n",
              "        /* gets rid of default border in Firefox and Opera. */\n",
              "        border: none;\n",
              "        /* Needs to be in here for Safari polyfill so background images work as expected. */\n",
              "        background-size: auto;\n",
              "    }\n",
              "    progress:not([value]), progress:not([value])::-webkit-progress-bar {\n",
              "        background: repeating-linear-gradient(45deg, #7e7e7e, #7e7e7e 10px, #5c5c5c 10px, #5c5c5c 20px);\n",
              "    }\n",
              "    .progress-bar-interrupted, .progress-bar-interrupted::-webkit-progress-bar {\n",
              "        background: #F44336;\n",
              "    }\n",
              "</style>\n"
            ],
            "text/plain": [
              "<IPython.core.display.HTML object>"
            ]
          },
          "metadata": {},
          "output_type": "display_data"
        },
        {
          "data": {
            "text/html": [
              "\n",
              "    <div>\n",
              "      <progress value='100' class='' max='100' style='width:300px; height:20px; vertical-align: middle;'></progress>\n",
              "      100.00% [100/100 00:10&lt;00:00]\n",
              "    </div>\n",
              "    "
            ],
            "text/plain": [
              "<IPython.core.display.HTML object>"
            ]
          },
          "metadata": {},
          "output_type": "display_data"
        }
      ],
      "source": [
        "samples, outputs, predictions = get_predictions(learn)\n",
        "table = create_iou_table(samples, outputs, predictions, params.BDD_CLASSES)\n",
        "wandb.log({\"pred_table\":table})"
      ],
      "id": "-WeW0iKTODi5"
    },
    {
      "cell_type": "markdown",
      "metadata": {
        "id": "63zF4MAKaB76"
      },
      "source": [
        "We are reloading the model from the best checkpoint at the end and saving it. To make sure we track the final metrics correctly, we will validate the model again and save the final loss and metrics to wandb.summary."
      ],
      "id": "63zF4MAKaB76"
    },
    {
      "cell_type": "code",
      "execution_count": null,
      "metadata": {
        "colab": {
          "base_uri": "https://localhost:8080/",
          "height": 17
        },
        "id": "UXh6bq8BaAem",
        "outputId": "37811eb8-0349-42f2-ee4b-d16a94331bc0"
      },
      "outputs": [
        {
          "data": {
            "text/html": [
              "\n",
              "<style>\n",
              "    /* Turns off some styling */\n",
              "    progress {\n",
              "        /* gets rid of default border in Firefox and Opera. */\n",
              "        border: none;\n",
              "        /* Needs to be in here for Safari polyfill so background images work as expected. */\n",
              "        background-size: auto;\n",
              "    }\n",
              "    progress:not([value]), progress:not([value])::-webkit-progress-bar {\n",
              "        background: repeating-linear-gradient(45deg, #7e7e7e, #7e7e7e 10px, #5c5c5c 10px, #5c5c5c 20px);\n",
              "    }\n",
              "    .progress-bar-interrupted, .progress-bar-interrupted::-webkit-progress-bar {\n",
              "        background: #F44336;\n",
              "    }\n",
              "</style>\n"
            ],
            "text/plain": [
              "<IPython.core.display.HTML object>"
            ]
          },
          "metadata": {},
          "output_type": "display_data"
        },
        {
          "data": {
            "text/html": [],
            "text/plain": [
              "<IPython.core.display.HTML object>"
            ]
          },
          "metadata": {},
          "output_type": "display_data"
        }
      ],
      "source": [
        "scores = learn.validate()\n",
        "metric_names = ['final_loss'] + [f'final_{x.name}' for x in metrics]\n",
        "final_results = {metric_names[i] : scores[i] for i in range(len(scores))}\n",
        "for k,v in final_results.items(): \n",
        "    wandb.summary[k] = v"
      ],
      "id": "UXh6bq8BaAem"
    },
    {
      "cell_type": "code",
      "execution_count": null,
      "metadata": {
        "colab": {
          "base_uri": "https://localhost:8080/",
          "height": 974
        },
        "id": "sRBhVxo7aIJx",
        "outputId": "d1c15c24-04ed-4af1-dc5f-83a8e8a42242"
      },
      "outputs": [
        {
          "data": {
            "text/html": [
              "Waiting for W&B process to finish... <strong style=\"color:green\">(success).</strong>"
            ],
            "text/plain": [
              "<IPython.core.display.HTML object>"
            ]
          },
          "metadata": {},
          "output_type": "display_data"
        },
        {
          "data": {
            "text/html": [
              "<style>\n",
              "    table.wandb td:nth-child(1) { padding: 0 10px; text-align: left ; width: auto;} td:nth-child(2) {text-align: left ; width: 100%}\n",
              "    .wandb-row { display: flex; flex-direction: row; flex-wrap: wrap; justify-content: flex-start; width: 100% }\n",
              "    .wandb-col { display: flex; flex-direction: column; flex-basis: 100%; flex: 1; padding: 10px; }\n",
              "    </style>\n",
              "<div class=\"wandb-row\"><div class=\"wandb-col\"><h3>Run history:</h3><br/><table class=\"wandb\"><tr><td>background_iou</td><td>▁▇▆▇██████</td></tr><tr><td>bicycle_iou</td><td>▁▁▁▁▁▁▁▁▁▁</td></tr><tr><td>epoch</td><td>▁▁▁▂▂▂▂▂▂▃▃▃▃▃▄▄▄▄▄▄▅▅▅▅▅▅▆▆▆▆▆▇▇▇▇▇▇███</td></tr><tr><td>eps_0</td><td>▁▁▁▁▁▁▁▁▁▁▁▁▁▁▁▁▁▁▁▁▁▁▁▁▁▁▁▁▁▁▁▁▁▁▁▁▁▁▁▁</td></tr><tr><td>eps_1</td><td>▁▁▁▁▁▁▁▁▁▁▁▁▁▁▁▁▁▁▁▁▁▁▁▁▁▁▁▁▁▁▁▁▁▁▁▁▁▁▁▁</td></tr><tr><td>eps_2</td><td>▁▁▁▁▁▁▁▁▁▁▁▁▁▁▁▁▁▁▁▁▁▁▁▁▁▁▁▁▁▁▁▁▁▁▁▁▁▁▁▁</td></tr><tr><td>lr_0</td><td>▁▂▂▃▄▅▆▇███████▇▇▇▇▆▆▆▅▅▅▄▄▄▃▃▃▂▂▂▁▁▁▁▁▁</td></tr><tr><td>lr_1</td><td>▁▂▂▃▄▅▆▇███████▇▇▇▇▆▆▆▅▅▅▄▄▄▃▃▃▂▂▂▁▁▁▁▁▁</td></tr><tr><td>lr_2</td><td>▁▂▂▃▄▅▆▇███████▇▇▇▇▆▆▆▅▅▅▄▄▄▃▃▃▂▂▂▁▁▁▁▁▁</td></tr><tr><td>miou</td><td>▁▇▆▇▇▇████</td></tr><tr><td>mom_0</td><td>██▇▆▅▄▃▂▁▁▁▁▁▁▁▂▂▂▂▃▃▃▄▄▄▅▅▅▆▆▆▇▇▇██████</td></tr><tr><td>mom_1</td><td>██▇▆▅▄▃▂▁▁▁▁▁▁▁▂▂▂▂▃▃▃▄▄▄▅▅▅▆▆▆▇▇▇██████</td></tr><tr><td>mom_2</td><td>██▇▆▅▄▃▂▁▁▁▁▁▁▁▂▂▂▂▃▃▃▄▄▄▅▅▅▆▆▆▇▇▇██████</td></tr><tr><td>person_iou</td><td>▁▁▁▁▁▁▁▁▁▁</td></tr><tr><td>raw_loss</td><td>█▆▅▅▅▄▄▃▃▄▄▅▃▃▂▄▂▃▂▃▃▃▁▃▂▄▃▂▁▁▂▃▂▁▂▁▂▃▂▁</td></tr><tr><td>road_iou</td><td>▁▇▇███████</td></tr><tr><td>sqr_mom_0</td><td>▁▁▁▁▁▁▁▁▁▁▁▁▁▁▁▁▁▁▁▁▁▁▁▁▁▁▁▁▁▁▁▁▁▁▁▁▁▁▁▁</td></tr><tr><td>sqr_mom_1</td><td>▁▁▁▁▁▁▁▁▁▁▁▁▁▁▁▁▁▁▁▁▁▁▁▁▁▁▁▁▁▁▁▁▁▁▁▁▁▁▁▁</td></tr><tr><td>sqr_mom_2</td><td>▁▁▁▁▁▁▁▁▁▁▁▁▁▁▁▁▁▁▁▁▁▁▁▁▁▁▁▁▁▁▁▁▁▁▁▁▁▁▁▁</td></tr><tr><td>traffic_light_iou</td><td>▁▁▁▁▂▁▆▆▆█</td></tr><tr><td>traffic_sign_iou</td><td>▁▁▁█▂▁▁▁▁▂</td></tr><tr><td>train_loss</td><td>█▅▄▃▃▃▃▂▂▂▂▂▂▂▂▂▂▂▂▂▂▁▁▁▁▁▁▁▁▁▁▁▁▁▁▁▁▁▁▁</td></tr><tr><td>train_samples_per_sec</td><td>█▃▆▆▅▅▄▃▄▃▄▅▄▅▅▃▆▅▁▅▅▆▆▆▆▅▂▆▄▆▆▆▆▃▂▆▄▆▅▄</td></tr><tr><td>valid_loss</td><td>█▃▃▂▂▁▂▁▁▁</td></tr><tr><td>vehicle_iou</td><td>▁▇▆▇▇█████</td></tr><tr><td>wd_0</td><td>▁▁▁▁▁▁▁▁▁▁▁▁▁▁▁▁▁▁▁▁▁▁▁▁▁▁▁▁▁▁▁▁▁▁▁▁▁▁▁▁</td></tr><tr><td>wd_1</td><td>▁▁▁▁▁▁▁▁▁▁▁▁▁▁▁▁▁▁▁▁▁▁▁▁▁▁▁▁▁▁▁▁▁▁▁▁▁▁▁▁</td></tr><tr><td>wd_2</td><td>▁▁▁▁▁▁▁▁▁▁▁▁▁▁▁▁▁▁▁▁▁▁▁▁▁▁▁▁▁▁▁▁▁▁▁▁▁▁▁▁</td></tr></table><br/></div><div class=\"wandb-col\"><h3>Run summary:</h3><br/><table class=\"wandb\"><tr><td>background_iou</td><td>0.91916</td></tr><tr><td>bicycle_iou</td><td>0.0</td></tr><tr><td>epoch</td><td>10</td></tr><tr><td>eps_0</td><td>1e-05</td></tr><tr><td>eps_1</td><td>1e-05</td></tr><tr><td>eps_2</td><td>1e-05</td></tr><tr><td>final_background_iou</td><td>0.91916</td></tr><tr><td>final_bicycle_iou</td><td>0.0</td></tr><tr><td>final_loss</td><td>0.22873</td></tr><tr><td>final_miou</td><td>0.37945</td></tr><tr><td>final_person_iou</td><td>0.0</td></tr><tr><td>final_road_iou</td><td>0.84229</td></tr><tr><td>final_traffic_light_iou</td><td>0.13664</td></tr><tr><td>final_traffic_sign_iou</td><td>0.00027</td></tr><tr><td>final_vehicle_iou</td><td>0.75777</td></tr><tr><td>lr_0</td><td>0.0</td></tr><tr><td>lr_1</td><td>0.0</td></tr><tr><td>lr_2</td><td>0.0</td></tr><tr><td>miou</td><td>0.37945</td></tr><tr><td>mom_0</td><td>0.95</td></tr><tr><td>mom_1</td><td>0.95</td></tr><tr><td>mom_2</td><td>0.95</td></tr><tr><td>person_iou</td><td>0.0</td></tr><tr><td>raw_loss</td><td>0.18505</td></tr><tr><td>road_iou</td><td>0.84229</td></tr><tr><td>sqr_mom_0</td><td>0.99</td></tr><tr><td>sqr_mom_1</td><td>0.99</td></tr><tr><td>sqr_mom_2</td><td>0.99</td></tr><tr><td>traffic_light_iou</td><td>0.13664</td></tr><tr><td>traffic_sign_iou</td><td>0.00027</td></tr><tr><td>train_loss</td><td>0.18111</td></tr><tr><td>train_samples_per_sec</td><td>20.01946</td></tr><tr><td>valid_loss</td><td>0.22873</td></tr><tr><td>vehicle_iou</td><td>0.75777</td></tr><tr><td>wd_0</td><td>0.01</td></tr><tr><td>wd_1</td><td>0.01</td></tr><tr><td>wd_2</td><td>0.01</td></tr></table><br/></div></div>"
            ],
            "text/plain": [
              "<IPython.core.display.HTML object>"
            ]
          },
          "metadata": {},
          "output_type": "display_data"
        },
        {
          "data": {
            "text/html": [
              " View run <strong style=\"color:#cdcd00\">fine-meadow-4</strong> at: <a href=\"https://wandb.ai/lzeladam/mlops-course-001/runs/1pf1ikka\" target=\"_blank\">https://wandb.ai/lzeladam/mlops-course-001/runs/1pf1ikka</a><br/>Synced 5 W&B file(s), 1 media file(s), 303 artifact file(s) and 0 other file(s)"
            ],
            "text/plain": [
              "<IPython.core.display.HTML object>"
            ]
          },
          "metadata": {},
          "output_type": "display_data"
        },
        {
          "data": {
            "text/html": [
              "Find logs at: <code>./wandb/run-20230207_145537-1pf1ikka/logs</code>"
            ],
            "text/plain": [
              "<IPython.core.display.HTML object>"
            ]
          },
          "metadata": {},
          "output_type": "display_data"
        }
      ],
      "source": [
        "wandb.finish()"
      ],
      "id": "sRBhVxo7aIJx"
    }
  ],
  "metadata": {
    "accelerator": "GPU",
    "colab": {
      "provenance": []
    },
    "gpuClass": "standard",
    "kernelspec": {
      "display_name": "Python 3.10.6 64-bit",
      "language": "python",
      "name": "python3"
    },
    "widgets": {
      "application/vnd.jupyter.widget-state+json": {
        "186d54828d634ef3a54be647a5da5f0e": {
          "model_module": "@jupyter-widgets/base",
          "model_module_version": "1.2.0",
          "model_name": "LayoutModel",
          "state": {
            "_model_module": "@jupyter-widgets/base",
            "_model_module_version": "1.2.0",
            "_model_name": "LayoutModel",
            "_view_count": null,
            "_view_module": "@jupyter-widgets/base",
            "_view_module_version": "1.2.0",
            "_view_name": "LayoutView",
            "align_content": null,
            "align_items": null,
            "align_self": null,
            "border": null,
            "bottom": null,
            "display": null,
            "flex": null,
            "flex_flow": null,
            "grid_area": null,
            "grid_auto_columns": null,
            "grid_auto_flow": null,
            "grid_auto_rows": null,
            "grid_column": null,
            "grid_gap": null,
            "grid_row": null,
            "grid_template_areas": null,
            "grid_template_columns": null,
            "grid_template_rows": null,
            "height": null,
            "justify_content": null,
            "justify_items": null,
            "left": null,
            "margin": null,
            "max_height": null,
            "max_width": null,
            "min_height": null,
            "min_width": null,
            "object_fit": null,
            "object_position": null,
            "order": null,
            "overflow": null,
            "overflow_x": null,
            "overflow_y": null,
            "padding": null,
            "right": null,
            "top": null,
            "visibility": null,
            "width": null
          }
        },
        "65b0e62b829745e0946a81ddb8ff7bda": {
          "model_module": "@jupyter-widgets/controls",
          "model_module_version": "1.5.0",
          "model_name": "HBoxModel",
          "state": {
            "_dom_classes": [],
            "_model_module": "@jupyter-widgets/controls",
            "_model_module_version": "1.5.0",
            "_model_name": "HBoxModel",
            "_view_count": null,
            "_view_module": "@jupyter-widgets/controls",
            "_view_module_version": "1.5.0",
            "_view_name": "HBoxView",
            "box_style": "",
            "children": [
              "IPY_MODEL_f378c2f2fd8d43189b840e0cba21bf68",
              "IPY_MODEL_b5dd8daa0db5426082f756648fc2b86f",
              "IPY_MODEL_7699819871f74ca2b3686b04266db14e"
            ],
            "layout": "IPY_MODEL_94482cd836554e0fb3f09d945a14112d"
          }
        },
        "7699819871f74ca2b3686b04266db14e": {
          "model_module": "@jupyter-widgets/controls",
          "model_module_version": "1.5.0",
          "model_name": "HTMLModel",
          "state": {
            "_dom_classes": [],
            "_model_module": "@jupyter-widgets/controls",
            "_model_module_version": "1.5.0",
            "_model_name": "HTMLModel",
            "_view_count": null,
            "_view_module": "@jupyter-widgets/controls",
            "_view_module_version": "1.5.0",
            "_view_name": "HTMLView",
            "description": "",
            "description_tooltip": null,
            "layout": "IPY_MODEL_186d54828d634ef3a54be647a5da5f0e",
            "placeholder": "​",
            "style": "IPY_MODEL_d7aa628d99734efa9d24b43a247d5944",
            "value": " 44.7M/44.7M [00:00&lt;00:00, 130MB/s]"
          }
        },
        "7c0075cb6c3b4e4b8bf2fec9d488b67e": {
          "model_module": "@jupyter-widgets/base",
          "model_module_version": "1.2.0",
          "model_name": "LayoutModel",
          "state": {
            "_model_module": "@jupyter-widgets/base",
            "_model_module_version": "1.2.0",
            "_model_name": "LayoutModel",
            "_view_count": null,
            "_view_module": "@jupyter-widgets/base",
            "_view_module_version": "1.2.0",
            "_view_name": "LayoutView",
            "align_content": null,
            "align_items": null,
            "align_self": null,
            "border": null,
            "bottom": null,
            "display": null,
            "flex": null,
            "flex_flow": null,
            "grid_area": null,
            "grid_auto_columns": null,
            "grid_auto_flow": null,
            "grid_auto_rows": null,
            "grid_column": null,
            "grid_gap": null,
            "grid_row": null,
            "grid_template_areas": null,
            "grid_template_columns": null,
            "grid_template_rows": null,
            "height": null,
            "justify_content": null,
            "justify_items": null,
            "left": null,
            "margin": null,
            "max_height": null,
            "max_width": null,
            "min_height": null,
            "min_width": null,
            "object_fit": null,
            "object_position": null,
            "order": null,
            "overflow": null,
            "overflow_x": null,
            "overflow_y": null,
            "padding": null,
            "right": null,
            "top": null,
            "visibility": null,
            "width": null
          }
        },
        "856c4195d5224da2a55a0eb7fd3442a3": {
          "model_module": "@jupyter-widgets/controls",
          "model_module_version": "1.5.0",
          "model_name": "ProgressStyleModel",
          "state": {
            "_model_module": "@jupyter-widgets/controls",
            "_model_module_version": "1.5.0",
            "_model_name": "ProgressStyleModel",
            "_view_count": null,
            "_view_module": "@jupyter-widgets/base",
            "_view_module_version": "1.2.0",
            "_view_name": "StyleView",
            "bar_color": null,
            "description_width": ""
          }
        },
        "94482cd836554e0fb3f09d945a14112d": {
          "model_module": "@jupyter-widgets/base",
          "model_module_version": "1.2.0",
          "model_name": "LayoutModel",
          "state": {
            "_model_module": "@jupyter-widgets/base",
            "_model_module_version": "1.2.0",
            "_model_name": "LayoutModel",
            "_view_count": null,
            "_view_module": "@jupyter-widgets/base",
            "_view_module_version": "1.2.0",
            "_view_name": "LayoutView",
            "align_content": null,
            "align_items": null,
            "align_self": null,
            "border": null,
            "bottom": null,
            "display": null,
            "flex": null,
            "flex_flow": null,
            "grid_area": null,
            "grid_auto_columns": null,
            "grid_auto_flow": null,
            "grid_auto_rows": null,
            "grid_column": null,
            "grid_gap": null,
            "grid_row": null,
            "grid_template_areas": null,
            "grid_template_columns": null,
            "grid_template_rows": null,
            "height": null,
            "justify_content": null,
            "justify_items": null,
            "left": null,
            "margin": null,
            "max_height": null,
            "max_width": null,
            "min_height": null,
            "min_width": null,
            "object_fit": null,
            "object_position": null,
            "order": null,
            "overflow": null,
            "overflow_x": null,
            "overflow_y": null,
            "padding": null,
            "right": null,
            "top": null,
            "visibility": null,
            "width": null
          }
        },
        "a5467acdcebd49b384568a2faa93528f": {
          "model_module": "@jupyter-widgets/controls",
          "model_module_version": "1.5.0",
          "model_name": "DescriptionStyleModel",
          "state": {
            "_model_module": "@jupyter-widgets/controls",
            "_model_module_version": "1.5.0",
            "_model_name": "DescriptionStyleModel",
            "_view_count": null,
            "_view_module": "@jupyter-widgets/base",
            "_view_module_version": "1.2.0",
            "_view_name": "StyleView",
            "description_width": ""
          }
        },
        "ad44b2c55cdf4a30b3314676281b2c92": {
          "model_module": "@jupyter-widgets/base",
          "model_module_version": "1.2.0",
          "model_name": "LayoutModel",
          "state": {
            "_model_module": "@jupyter-widgets/base",
            "_model_module_version": "1.2.0",
            "_model_name": "LayoutModel",
            "_view_count": null,
            "_view_module": "@jupyter-widgets/base",
            "_view_module_version": "1.2.0",
            "_view_name": "LayoutView",
            "align_content": null,
            "align_items": null,
            "align_self": null,
            "border": null,
            "bottom": null,
            "display": null,
            "flex": null,
            "flex_flow": null,
            "grid_area": null,
            "grid_auto_columns": null,
            "grid_auto_flow": null,
            "grid_auto_rows": null,
            "grid_column": null,
            "grid_gap": null,
            "grid_row": null,
            "grid_template_areas": null,
            "grid_template_columns": null,
            "grid_template_rows": null,
            "height": null,
            "justify_content": null,
            "justify_items": null,
            "left": null,
            "margin": null,
            "max_height": null,
            "max_width": null,
            "min_height": null,
            "min_width": null,
            "object_fit": null,
            "object_position": null,
            "order": null,
            "overflow": null,
            "overflow_x": null,
            "overflow_y": null,
            "padding": null,
            "right": null,
            "top": null,
            "visibility": null,
            "width": null
          }
        },
        "b5dd8daa0db5426082f756648fc2b86f": {
          "model_module": "@jupyter-widgets/controls",
          "model_module_version": "1.5.0",
          "model_name": "FloatProgressModel",
          "state": {
            "_dom_classes": [],
            "_model_module": "@jupyter-widgets/controls",
            "_model_module_version": "1.5.0",
            "_model_name": "FloatProgressModel",
            "_view_count": null,
            "_view_module": "@jupyter-widgets/controls",
            "_view_module_version": "1.5.0",
            "_view_name": "ProgressView",
            "bar_style": "success",
            "description": "",
            "description_tooltip": null,
            "layout": "IPY_MODEL_7c0075cb6c3b4e4b8bf2fec9d488b67e",
            "max": 46830571,
            "min": 0,
            "orientation": "horizontal",
            "style": "IPY_MODEL_856c4195d5224da2a55a0eb7fd3442a3",
            "value": 46830571
          }
        },
        "d7aa628d99734efa9d24b43a247d5944": {
          "model_module": "@jupyter-widgets/controls",
          "model_module_version": "1.5.0",
          "model_name": "DescriptionStyleModel",
          "state": {
            "_model_module": "@jupyter-widgets/controls",
            "_model_module_version": "1.5.0",
            "_model_name": "DescriptionStyleModel",
            "_view_count": null,
            "_view_module": "@jupyter-widgets/base",
            "_view_module_version": "1.2.0",
            "_view_name": "StyleView",
            "description_width": ""
          }
        },
        "f378c2f2fd8d43189b840e0cba21bf68": {
          "model_module": "@jupyter-widgets/controls",
          "model_module_version": "1.5.0",
          "model_name": "HTMLModel",
          "state": {
            "_dom_classes": [],
            "_model_module": "@jupyter-widgets/controls",
            "_model_module_version": "1.5.0",
            "_model_name": "HTMLModel",
            "_view_count": null,
            "_view_module": "@jupyter-widgets/controls",
            "_view_module_version": "1.5.0",
            "_view_name": "HTMLView",
            "description": "",
            "description_tooltip": null,
            "layout": "IPY_MODEL_ad44b2c55cdf4a30b3314676281b2c92",
            "placeholder": "​",
            "style": "IPY_MODEL_a5467acdcebd49b384568a2faa93528f",
            "value": "100%"
          }
        }
      }
    }
  },
  "nbformat": 4,
  "nbformat_minor": 5
}